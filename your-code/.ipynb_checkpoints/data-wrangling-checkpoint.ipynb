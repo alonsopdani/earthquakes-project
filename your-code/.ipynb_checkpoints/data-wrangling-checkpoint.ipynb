{
 "cells": [
  {
   "cell_type": "code",
   "execution_count": 1,
   "metadata": {},
   "outputs": [],
   "source": [
    "import pandas as pd\n",
    "import numpy as np\n",
    "import requests\n",
    "import unicodedata\n",
    "import matplotlib.pyplot as plt"
   ]
  },
  {
   "cell_type": "code",
   "execution_count": 2,
   "metadata": {},
   "outputs": [],
   "source": [
    "data = pd.read_csv('earthquake.csv')"
   ]
  },
  {
   "cell_type": "code",
   "execution_count": 3,
   "metadata": {},
   "outputs": [
    {
     "data": {
      "text/plain": [
       "(24007, 17)"
      ]
     },
     "execution_count": 3,
     "metadata": {},
     "output_type": "execute_result"
    }
   ],
   "source": [
    "data.shape"
   ]
  },
  {
   "cell_type": "code",
   "execution_count": 4,
   "metadata": {},
   "outputs": [],
   "source": [
    "data = pd.read_csv('earthquake.csv')"
   ]
  },
  {
   "cell_type": "code",
   "execution_count": 5,
   "metadata": {
    "scrolled": true
   },
   "outputs": [
    {
     "data": {
      "text/html": [
       "<div>\n",
       "<style scoped>\n",
       "    .dataframe tbody tr th:only-of-type {\n",
       "        vertical-align: middle;\n",
       "    }\n",
       "\n",
       "    .dataframe tbody tr th {\n",
       "        vertical-align: top;\n",
       "    }\n",
       "\n",
       "    .dataframe thead th {\n",
       "        text-align: right;\n",
       "    }\n",
       "</style>\n",
       "<table border=\"1\" class=\"dataframe\">\n",
       "  <thead>\n",
       "    <tr style=\"text-align: right;\">\n",
       "      <th></th>\n",
       "      <th>id</th>\n",
       "      <th>date</th>\n",
       "      <th>time</th>\n",
       "      <th>lat</th>\n",
       "      <th>long</th>\n",
       "      <th>country</th>\n",
       "      <th>city</th>\n",
       "      <th>area</th>\n",
       "      <th>direction</th>\n",
       "      <th>dist</th>\n",
       "      <th>depth</th>\n",
       "      <th>xm</th>\n",
       "      <th>md</th>\n",
       "      <th>richter</th>\n",
       "      <th>mw</th>\n",
       "      <th>ms</th>\n",
       "      <th>mb</th>\n",
       "      <th>year</th>\n",
       "    </tr>\n",
       "  </thead>\n",
       "  <tbody>\n",
       "    <tr>\n",
       "      <th>0</th>\n",
       "      <td>2.000000e+13</td>\n",
       "      <td>2003.05.20</td>\n",
       "      <td>12:17:44 AM</td>\n",
       "      <td>39.04</td>\n",
       "      <td>40.38</td>\n",
       "      <td>turkey</td>\n",
       "      <td>bingol</td>\n",
       "      <td>baliklicay</td>\n",
       "      <td>west</td>\n",
       "      <td>0.1</td>\n",
       "      <td>10.0</td>\n",
       "      <td>4.1</td>\n",
       "      <td>4.1</td>\n",
       "      <td>0.0</td>\n",
       "      <td>NaN</td>\n",
       "      <td>0.0</td>\n",
       "      <td>0.0</td>\n",
       "      <td>2003</td>\n",
       "    </tr>\n",
       "    <tr>\n",
       "      <th>1</th>\n",
       "      <td>2.010000e+13</td>\n",
       "      <td>2007.08.01</td>\n",
       "      <td>12:03:08 AM</td>\n",
       "      <td>40.79</td>\n",
       "      <td>30.09</td>\n",
       "      <td>turkey</td>\n",
       "      <td>kocaeli</td>\n",
       "      <td>bayraktar_izmit</td>\n",
       "      <td>west</td>\n",
       "      <td>0.1</td>\n",
       "      <td>5.2</td>\n",
       "      <td>4.0</td>\n",
       "      <td>3.8</td>\n",
       "      <td>4.0</td>\n",
       "      <td>NaN</td>\n",
       "      <td>0.0</td>\n",
       "      <td>0.0</td>\n",
       "      <td>2007</td>\n",
       "    </tr>\n",
       "    <tr>\n",
       "      <th>2</th>\n",
       "      <td>1.980000e+13</td>\n",
       "      <td>1978.05.07</td>\n",
       "      <td>12:41:37 AM</td>\n",
       "      <td>38.58</td>\n",
       "      <td>27.61</td>\n",
       "      <td>turkey</td>\n",
       "      <td>manisa</td>\n",
       "      <td>hamzabeyli</td>\n",
       "      <td>south_west</td>\n",
       "      <td>0.1</td>\n",
       "      <td>0.0</td>\n",
       "      <td>3.7</td>\n",
       "      <td>0.0</td>\n",
       "      <td>0.0</td>\n",
       "      <td>NaN</td>\n",
       "      <td>0.0</td>\n",
       "      <td>3.7</td>\n",
       "      <td>1978</td>\n",
       "    </tr>\n",
       "    <tr>\n",
       "      <th>3</th>\n",
       "      <td>2.000000e+13</td>\n",
       "      <td>1997.03.22</td>\n",
       "      <td>12:31:45 AM</td>\n",
       "      <td>39.47</td>\n",
       "      <td>36.44</td>\n",
       "      <td>turkey</td>\n",
       "      <td>sivas</td>\n",
       "      <td>kahvepinar_sarkisla</td>\n",
       "      <td>south_west</td>\n",
       "      <td>0.1</td>\n",
       "      <td>10.0</td>\n",
       "      <td>3.5</td>\n",
       "      <td>3.5</td>\n",
       "      <td>0.0</td>\n",
       "      <td>NaN</td>\n",
       "      <td>0.0</td>\n",
       "      <td>0.0</td>\n",
       "      <td>1997</td>\n",
       "    </tr>\n",
       "    <tr>\n",
       "      <th>4</th>\n",
       "      <td>2.000000e+13</td>\n",
       "      <td>2000.04.02</td>\n",
       "      <td>12:57:38 AM</td>\n",
       "      <td>40.80</td>\n",
       "      <td>30.24</td>\n",
       "      <td>turkey</td>\n",
       "      <td>sakarya</td>\n",
       "      <td>meseli_serdivan</td>\n",
       "      <td>south_west</td>\n",
       "      <td>0.1</td>\n",
       "      <td>7.0</td>\n",
       "      <td>4.3</td>\n",
       "      <td>4.3</td>\n",
       "      <td>0.0</td>\n",
       "      <td>NaN</td>\n",
       "      <td>0.0</td>\n",
       "      <td>0.0</td>\n",
       "      <td>2000</td>\n",
       "    </tr>\n",
       "  </tbody>\n",
       "</table>\n",
       "</div>"
      ],
      "text/plain": [
       "             id        date         time    lat   long country     city  \\\n",
       "0  2.000000e+13  2003.05.20  12:17:44 AM  39.04  40.38  turkey   bingol   \n",
       "1  2.010000e+13  2007.08.01  12:03:08 AM  40.79  30.09  turkey  kocaeli   \n",
       "2  1.980000e+13  1978.05.07  12:41:37 AM  38.58  27.61  turkey   manisa   \n",
       "3  2.000000e+13  1997.03.22  12:31:45 AM  39.47  36.44  turkey    sivas   \n",
       "4  2.000000e+13  2000.04.02  12:57:38 AM  40.80  30.24  turkey  sakarya   \n",
       "\n",
       "                  area   direction  dist  depth   xm   md  richter  mw   ms  \\\n",
       "0           baliklicay        west   0.1   10.0  4.1  4.1      0.0 NaN  0.0   \n",
       "1      bayraktar_izmit        west   0.1    5.2  4.0  3.8      4.0 NaN  0.0   \n",
       "2           hamzabeyli  south_west   0.1    0.0  3.7  0.0      0.0 NaN  0.0   \n",
       "3  kahvepinar_sarkisla  south_west   0.1   10.0  3.5  3.5      0.0 NaN  0.0   \n",
       "4      meseli_serdivan  south_west   0.1    7.0  4.3  4.3      0.0 NaN  0.0   \n",
       "\n",
       "    mb  year  \n",
       "0  0.0  2003  \n",
       "1  0.0  2007  \n",
       "2  3.7  1978  \n",
       "3  0.0  1997  \n",
       "4  0.0  2000  "
      ]
     },
     "execution_count": 5,
     "metadata": {},
     "output_type": "execute_result"
    }
   ],
   "source": [
    "# función para sacar el año de la fecha\n",
    "def get_year(date):\n",
    "    return(int(date[:4]))\n",
    "\n",
    "data['year'] = data['date'].map(get_year)\n",
    "data.head()"
   ]
  },
  {
   "cell_type": "code",
   "execution_count": 6,
   "metadata": {},
   "outputs": [
    {
     "data": {
      "text/plain": [
       "(6136, 9)"
      ]
     },
     "execution_count": 6,
     "metadata": {},
     "output_type": "execute_result"
    }
   ],
   "source": [
    "# eliminamos registros anteriores a 1964\n",
    "# eliminamos registros de terremotos con índice 0 en la Escala de Richter\n",
    "data = data.query('year >= 2004 & richter != 0')\n",
    "# nos quedamos con las columnas que nos interesan\n",
    "data = data[['id', 'date', 'time', 'lat', 'long', 'city', 'area', 'richter', 'year']]\n",
    "data.shape"
   ]
  },
  {
   "cell_type": "code",
   "execution_count": 7,
   "metadata": {},
   "outputs": [
    {
     "data": {
      "text/plain": [
       "id            0\n",
       "date          0\n",
       "time          0\n",
       "lat           0\n",
       "long          0\n",
       "city       2921\n",
       "area       2331\n",
       "richter       0\n",
       "year          0\n",
       "dtype: int64"
      ]
     },
     "execution_count": 7,
     "metadata": {},
     "output_type": "execute_result"
    }
   ],
   "source": [
    "null_cols = data.isnull().sum()\n",
    "null_cols"
   ]
  },
  {
   "cell_type": "code",
   "execution_count": 8,
   "metadata": {},
   "outputs": [],
   "source": [
    "def get_city(location):\n",
    "    key = open(\".env\", \"r\").read()\n",
    "    response = requests.get(\"https://geocodeapi.p.rapidapi.com/GetNearestCities?latitude={}&longitude={}&range=0\".format(location[0], location[1]),\n",
    "        headers={\n",
    "        \"X-RapidAPI-Host\": \"geocodeapi.p.rapidapi.com\",\n",
    "        \"X-RapidAPI-Key\": key\n",
    "        }\n",
    "    )\n",
    "    res = response.json()\n",
    "    return unicodedata.normalize('NFKD',res[0]['City']).encode('ASCII', 'ignore').decode('utf-8').lower()"
   ]
  },
  {
   "cell_type": "code",
   "execution_count": 9,
   "metadata": {},
   "outputs": [
    {
     "data": {
      "text/plain": [
       "'takoradi'"
      ]
     },
     "execution_count": 9,
     "metadata": {},
     "output_type": "execute_result"
    }
   ],
   "source": [
    "get_city((0,0))"
   ]
  },
  {
   "cell_type": "code",
   "execution_count": 10,
   "metadata": {},
   "outputs": [
    {
     "data": {
      "text/html": [
       "<div>\n",
       "<style scoped>\n",
       "    .dataframe tbody tr th:only-of-type {\n",
       "        vertical-align: middle;\n",
       "    }\n",
       "\n",
       "    .dataframe tbody tr th {\n",
       "        vertical-align: top;\n",
       "    }\n",
       "\n",
       "    .dataframe thead th {\n",
       "        text-align: right;\n",
       "    }\n",
       "</style>\n",
       "<table border=\"1\" class=\"dataframe\">\n",
       "  <thead>\n",
       "    <tr style=\"text-align: right;\">\n",
       "      <th></th>\n",
       "      <th>id</th>\n",
       "      <th>date</th>\n",
       "      <th>time</th>\n",
       "      <th>lat</th>\n",
       "      <th>long</th>\n",
       "      <th>city</th>\n",
       "      <th>area</th>\n",
       "      <th>richter</th>\n",
       "      <th>year</th>\n",
       "      <th>coords</th>\n",
       "    </tr>\n",
       "  </thead>\n",
       "  <tbody>\n",
       "    <tr>\n",
       "      <th>1</th>\n",
       "      <td>2.010000e+13</td>\n",
       "      <td>2007.08.01</td>\n",
       "      <td>12:03:08 AM</td>\n",
       "      <td>40.79</td>\n",
       "      <td>30.09</td>\n",
       "      <td>kocaeli</td>\n",
       "      <td>bayraktar_izmit</td>\n",
       "      <td>4.0</td>\n",
       "      <td>2007</td>\n",
       "      <td>(40.79, 30.09)</td>\n",
       "    </tr>\n",
       "    <tr>\n",
       "      <th>6</th>\n",
       "      <td>2.010000e+13</td>\n",
       "      <td>2012.06.24</td>\n",
       "      <td>12:07:22 AM</td>\n",
       "      <td>38.75</td>\n",
       "      <td>43.61</td>\n",
       "      <td>van</td>\n",
       "      <td>ilikaynak</td>\n",
       "      <td>4.5</td>\n",
       "      <td>2012</td>\n",
       "      <td>(38.75, 43.61)</td>\n",
       "    </tr>\n",
       "    <tr>\n",
       "      <th>9</th>\n",
       "      <td>2.010000e+13</td>\n",
       "      <td>2011.10.28</td>\n",
       "      <td>12:47:56 AM</td>\n",
       "      <td>38.76</td>\n",
       "      <td>43.54</td>\n",
       "      <td>van</td>\n",
       "      <td>degirmenozu</td>\n",
       "      <td>4.2</td>\n",
       "      <td>2011</td>\n",
       "      <td>(38.76, 43.54)</td>\n",
       "    </tr>\n",
       "    <tr>\n",
       "      <th>10</th>\n",
       "      <td>2.010000e+13</td>\n",
       "      <td>2013.05.01</td>\n",
       "      <td>12:47:56 AM</td>\n",
       "      <td>37.31</td>\n",
       "      <td>37.11</td>\n",
       "      <td>kahramanmaras</td>\n",
       "      <td>ordekdede_pazarcik</td>\n",
       "      <td>3.5</td>\n",
       "      <td>2013</td>\n",
       "      <td>(37.31, 37.11)</td>\n",
       "    </tr>\n",
       "    <tr>\n",
       "      <th>15</th>\n",
       "      <td>2.010000e+13</td>\n",
       "      <td>2011.05.22</td>\n",
       "      <td>12:49:49 AM</td>\n",
       "      <td>39.13</td>\n",
       "      <td>29.04</td>\n",
       "      <td>kutahya</td>\n",
       "      <td>kapikaya_simav</td>\n",
       "      <td>3.9</td>\n",
       "      <td>2011</td>\n",
       "      <td>(39.13, 29.04)</td>\n",
       "    </tr>\n",
       "  </tbody>\n",
       "</table>\n",
       "</div>"
      ],
      "text/plain": [
       "              id        date         time    lat   long           city  \\\n",
       "1   2.010000e+13  2007.08.01  12:03:08 AM  40.79  30.09        kocaeli   \n",
       "6   2.010000e+13  2012.06.24  12:07:22 AM  38.75  43.61            van   \n",
       "9   2.010000e+13  2011.10.28  12:47:56 AM  38.76  43.54            van   \n",
       "10  2.010000e+13  2013.05.01  12:47:56 AM  37.31  37.11  kahramanmaras   \n",
       "15  2.010000e+13  2011.05.22  12:49:49 AM  39.13  29.04        kutahya   \n",
       "\n",
       "                  area  richter  year          coords  \n",
       "1      bayraktar_izmit      4.0  2007  (40.79, 30.09)  \n",
       "6            ilikaynak      4.5  2012  (38.75, 43.61)  \n",
       "9          degirmenozu      4.2  2011  (38.76, 43.54)  \n",
       "10  ordekdede_pazarcik      3.5  2013  (37.31, 37.11)  \n",
       "15      kapikaya_simav      3.9  2011  (39.13, 29.04)  "
      ]
     },
     "execution_count": 10,
     "metadata": {},
     "output_type": "execute_result"
    }
   ],
   "source": [
    "data['coords'] = list(zip(data.lat, data.long))\n",
    "data.head()"
   ]
  },
  {
   "cell_type": "code",
   "execution_count": 11,
   "metadata": {},
   "outputs": [
    {
     "data": {
      "text/plain": [
       "\"\\nres = []\\n\\nfor row in data.index: \\n    res.append(get_city(data.loc[row, 'coords']))\\nprint(res)\\n\""
      ]
     },
     "execution_count": 11,
     "metadata": {},
     "output_type": "execute_result"
    }
   ],
   "source": [
    "# lo siguiente era para obtener las ciudades de todos los terremotos pero, al hacer muchas peticiones, tardaba demasiado\n",
    "'''\n",
    "res = []\n",
    "\n",
    "for row in data.index: \n",
    "    res.append(get_city(data.loc[row, 'coords']))\n",
    "print(res)\n",
    "'''"
   ]
  },
  {
   "cell_type": "code",
   "execution_count": 12,
   "metadata": {},
   "outputs": [
    {
     "ename": "NameError",
     "evalue": "name 'res' is not defined",
     "output_type": "error",
     "traceback": [
      "\u001b[0;31m---------------------------------------------------------------------------\u001b[0m",
      "\u001b[0;31mNameError\u001b[0m                                 Traceback (most recent call last)",
      "\u001b[0;32m<ipython-input-12-aa9e737e6643>\u001b[0m in \u001b[0;36m<module>\u001b[0;34m\u001b[0m\n\u001b[0;32m----> 1\u001b[0;31m \u001b[0mdata\u001b[0m\u001b[0;34m[\u001b[0m\u001b[0;34m'city2'\u001b[0m\u001b[0;34m]\u001b[0m \u001b[0;34m=\u001b[0m \u001b[0mres\u001b[0m\u001b[0;34m\u001b[0m\u001b[0;34m\u001b[0m\u001b[0m\n\u001b[0m\u001b[1;32m      2\u001b[0m \u001b[0mdata\u001b[0m\u001b[0;34m.\u001b[0m\u001b[0mhead\u001b[0m\u001b[0;34m(\u001b[0m\u001b[0;34m)\u001b[0m\u001b[0;34m\u001b[0m\u001b[0;34m\u001b[0m\u001b[0m\n",
      "\u001b[0;31mNameError\u001b[0m: name 'res' is not defined"
     ]
    }
   ],
   "source": [
    "'''\n",
    "data['city2'] = res\n",
    "data.head()\n",
    "'''"
   ]
  },
  {
   "cell_type": "code",
   "execution_count": null,
   "metadata": {},
   "outputs": [],
   "source": [
    "data.to_csv('data_cities.csv')"
   ]
  },
  {
   "cell_type": "code",
   "execution_count": null,
   "metadata": {},
   "outputs": [],
   "source": [
    "data = pd.read_csv('data_cities.csv')"
   ]
  },
  {
   "cell_type": "code",
   "execution_count": null,
   "metadata": {},
   "outputs": [],
   "source": [
    "data = data.query('year >= 2004')\n",
    "data['year'].value_counts()"
   ]
  },
  {
   "cell_type": "code",
   "execution_count": null,
   "metadata": {},
   "outputs": [],
   "source": [
    "# hacemos bins según la Escala de Richter\n",
    "bins = [0, 4, 5, 7]\n",
    "data['richter_bins'] = pd.cut(data['richter'], bins)"
   ]
  },
  {
   "cell_type": "code",
   "execution_count": null,
   "metadata": {},
   "outputs": [],
   "source": [
    "# analysis\n",
    "date_richter = pd.pivot_table(data, values = 'date', index = 'year', columns = 'richter_bins', aggfunc = len, fill_value = 0)"
   ]
  },
  {
   "cell_type": "code",
   "execution_count": null,
   "metadata": {},
   "outputs": [],
   "source": [
    "date_richter.head()"
   ]
  },
  {
   "cell_type": "code",
   "execution_count": null,
   "metadata": {},
   "outputs": [],
   "source": [
    "N = len(date_richter)\n",
    "x = list(date_richter.iloc[:, 2])\n",
    "y = list(date_richter.iloc[:, 1])\n",
    "z = list(date_richter.iloc[:, 0])\n",
    "ind = np.arange(N)\n",
    "\n",
    "p1 = plt.bar(ind, z, color = '#87cefa')\n",
    "p2 = plt.bar(ind, y, bottom = z, color = '#1e90ff')\n",
    "p3 = plt.bar(ind, x, bottom = ([sum(x) for x in zip(y, z)]), color = ('#0000cd'))\n",
    "\n",
    "plt.ylabel('Earthquakes')\n",
    "plt.xlabel('Years')\n",
    "plt.title('Earthquakes by year and Richter Scale')\n",
    "plt.xticks(ind, ['\\'' + (str(x)[2:]) for x in list(date_richter.index)])\n",
    "plt.legend((p3[0], p2[0], p1[0]), ('(5, 7]', '(4, 5]', '(0, 4]'))\n",
    "plt.show()"
   ]
  },
  {
   "cell_type": "code",
   "execution_count": null,
   "metadata": {},
   "outputs": [],
   "source": [
    "top15cities = data['city2'].value_counts()[:15]\n",
    "top15cities.columns = ['city', 'earthquakes']"
   ]
  },
  {
   "cell_type": "code",
   "execution_count": null,
   "metadata": {},
   "outputs": [],
   "source": [
    "height = list(top15cities)[::-1]\n",
    "bars = list(top15cities.index)[::-1]\n",
    "y_pos = np.arange(len(bars))\n",
    " \n",
    "# Create horizontal bars\n",
    "plt.barh(y_pos, height, color = '#87cefa')\n",
    " \n",
    "# Create names on the y-axis\n",
    "plt.yticks(y_pos, bars)\n",
    "\n",
    "plt.xlabel('Earthquakes')\n",
    "plt.title('Top 15 cities by number of earthquakes (2004-2017)')\n",
    "\n",
    "plt.show()"
   ]
  }
 ],
 "metadata": {
  "kernelspec": {
   "display_name": "Python 3",
   "language": "python",
   "name": "python3"
  },
  "language_info": {
   "codemirror_mode": {
    "name": "ipython",
    "version": 3
   },
   "file_extension": ".py",
   "mimetype": "text/x-python",
   "name": "python",
   "nbconvert_exporter": "python",
   "pygments_lexer": "ipython3",
   "version": "3.6.7"
  }
 },
 "nbformat": 4,
 "nbformat_minor": 2
}
