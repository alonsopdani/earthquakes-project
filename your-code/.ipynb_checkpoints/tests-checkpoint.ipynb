{
 "cells": [
  {
   "cell_type": "code",
   "execution_count": 28,
   "metadata": {},
   "outputs": [
    {
     "name": "stdout",
     "output_type": "stream",
     "text": [
      "Köseköy\n"
     ]
    }
   ],
   "source": [
    "import requests\n",
    "\n",
    "def get_city(lat, lng):\n",
    "    key = open(\".env\", \"r\").read()\n",
    "    response = requests.get(\"https://geocodeapi.p.rapidapi.com/GetNearestCities?latitude={}&longitude={}&range=0\".format(lat, lng),\n",
    "      headers={\n",
    "        \"X-RapidAPI-Host\": \"geocodeapi.p.rapidapi.com\",\n",
    "        \"X-RapidAPI-Key\": key\n",
    "      }\n",
    "    )\n",
    "\n",
    "    res = response.json()\n",
    "    return res[0]['City']\n",
    "\n",
    "print(get_city(40.79, 30.09))"
   ]
  },
  {
   "cell_type": "code",
   "execution_count": 29,
   "metadata": {},
   "outputs": [
    {
     "name": "stdout",
     "output_type": "stream",
     "text": [
      "b'Kosekoy'\n"
     ]
    }
   ],
   "source": [
    "import requests\n",
    "\n",
    "def get_city(lat, lng):\n",
    "    key = open(\".env\", \"r\").read()\n",
    "    response = requests.get(\"https://geocodeapi.p.rapidapi.com/GetNearestCities?latitude={}&longitude={}&range=0\".format(lat, lng),\n",
    "      headers={\n",
    "        \"X-RapidAPI-Host\": \"geocodeapi.p.rapidapi.com\",\n",
    "        \"X-RapidAPI-Key\": key\n",
    "      }\n",
    "    )\n",
    "\n",
    "    res = response.json()\n",
    "    return unicodedata.normalize('NFKD', res[0]['City']).encode('ASCII', 'ignore')\n",
    "print(get_city(40.79, 30.09))"
   ]
  },
  {
   "cell_type": "code",
   "execution_count": 25,
   "metadata": {},
   "outputs": [
    {
     "name": "stdout",
     "output_type": "stream",
     "text": [
      "b'naive cafe'\n"
     ]
    }
   ],
   "source": [
    "import unicodedata\n",
    "data = u'naïve café'\n",
    "normal = unicodedata.normalize('NFKD', data).encode('ASCII', 'ignore')\n",
    "print(normal)"
   ]
  }
 ],
 "metadata": {
  "kernelspec": {
   "display_name": "Python 3",
   "language": "python",
   "name": "python3"
  },
  "language_info": {
   "codemirror_mode": {
    "name": "ipython",
    "version": 3
   },
   "file_extension": ".py",
   "mimetype": "text/x-python",
   "name": "python",
   "nbconvert_exporter": "python",
   "pygments_lexer": "ipython3",
   "version": "3.6.7"
  }
 },
 "nbformat": 4,
 "nbformat_minor": 2
}
